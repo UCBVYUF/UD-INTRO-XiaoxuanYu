{
 "cells": [
  {
   "cell_type": "markdown",
   "id": "38e188a5",
   "metadata": {},
   "source": [
    "# Exercise 00\n",
    "Write a piece of code that allocates a list of 20 integers and initializes each element by its index multiplied by 5. Print the result."
   ]
  },
  {
   "cell_type": "code",
   "execution_count": 1,
   "id": "01aa4f35",
   "metadata": {},
   "outputs": [
    {
     "name": "stdout",
     "output_type": "stream",
     "text": [
      "[0, 5, 10, 15, 20, 25, 30, 35, 40, 45, 50, 55, 60, 65, 70, 75, 80, 85, 90, 95]\n"
     ]
    }
   ],
   "source": [
    "numbers = [i * 5 for i in range(20)]\n",
    "print(numbers)\n"
   ]
  },
  {
   "cell_type": "markdown",
   "id": "529d91ae",
   "metadata": {},
   "source": [
    "# Exercise 01\n",
    "Define a function that takes an integer as input, prints  all integers that it is divisable by, and returns the largest one."
   ]
  },
  {
   "cell_type": "code",
   "execution_count": 3,
   "id": "30e79132",
   "metadata": {},
   "outputs": [
    {
     "name": "stdout",
     "output_type": "stream",
     "text": [
      "1\n",
      "2\n",
      "3\n",
      "4\n",
      "6\n",
      "9\n",
      "12\n",
      "18\n",
      "36\n",
      "Largest divisor: 36\n"
     ]
    }
   ],
   "source": [
    "def findDivisors(n):\n",
    "    divisors = []\n",
    "    for i in range(1, n + 1):\n",
    "        if n % i == 0:\n",
    "            divisors.append(i)\n",
    "            print(i)\n",
    "    return max(divisors)\n",
    "\n",
    "inputNumber = 36\n",
    "largestDivisor = findDivisors(inputNumber)\n",
    "print(\"Largest divisor:\", largestDivisor)\n"
   ]
  },
  {
   "cell_type": "markdown",
   "id": "cfbe30d4",
   "metadata": {},
   "source": [
    "# Exercise 02\n",
    "- create a dictionary with 6 keys and values of your choice\n",
    "- write a function that takes a dictionary and a value as input and returns whether the value occurs as a key in the dictionary\n",
    "- write a function that takes a dictionary as input, and returns the dictionary but the keys are swapped with their values (resolve the issue if a value occurs twice!)"
   ]
  },
  {
   "cell_type": "code",
   "execution_count": 20,
   "id": "171c8bf9-a6a5-4a51-8bd9-3834e4c92d91",
   "metadata": {},
   "outputs": [
    {
     "name": "stdout",
     "output_type": "stream",
     "text": [
      "Is 'Apex' a key in the dictionary? False\n",
      "Swapped dictionary: {'Hearthstone': 'battle', 'Apex': 'steam', 'LOL': 'tencent', 'Identity': 'wangyi', 'Genshin': 'miHoyo', 'JustDance': 'Ubi'}\n"
     ]
    }
   ],
   "source": [
    "thisDict = {\n",
    "    'battle': 'Hearthstone',\n",
    "    'steam': 'Apex',\n",
    "    'tencent': 'LOL',\n",
    "    'wangyi': 'Identity',\n",
    "    'miHoyo': 'Genshin',\n",
    "    'Ubi': 'JustDance'\n",
    "}\n",
    "\n",
    "def isKeyInDict(d, value):\n",
    "    return value in d\n",
    "    \n",
    "def swapKeysValues(d):\n",
    "    swappedDict = {}\n",
    "    for key, value in d.items():\n",
    "        if value in swappedDict:\n",
    "            if isinstance(swappeDict[value], list):\n",
    "                swappedDict[value].append(key)\n",
    "            else:\n",
    "                swappedDict[value] = [swappedDict[value], key]\n",
    "        else:\n",
    "            swappedDict[value] = key\n",
    "    return swappedDict\n",
    "\n",
    "\n",
    "valueToCheck = 'Apex'\n",
    "print(f\"Is '{valueToCheck}' a key in the dictionary? {isKeyInDict(thisDict, valueToCheck)}\")\n",
    "\n",
    "swapped = swapKeysValues(thisDict)\n",
    "print(\"Swapped dictionary:\", swapped)\n",
    "\n"
   ]
  },
  {
   "cell_type": "markdown",
   "id": "5f4e69cd-22c3-4c67-8d48-adfa16623283",
   "metadata": {},
   "source": [
    "# Exercise 03\n",
    "Define a function that creates a dictionary of the first n fibonacci numbers as values paired with their indices as keys. "
   ]
  },
  {
   "cell_type": "code",
   "execution_count": 16,
   "id": "7845b5a4",
   "metadata": {},
   "outputs": [
    {
     "name": "stdout",
     "output_type": "stream",
     "text": [
      "{0: 0, 1: 1, 2: 1, 3: 2, 4: 3, 5: 5, 6: 8, 7: 13, 8: 21, 9: 34}\n"
     ]
    }
   ],
   "source": [
    "def fibonacciDict(n):\n",
    "    fibDict = {}\n",
    "    a, b = 0, 1  \n",
    "    for i in range(n):\n",
    "        fibDict[i] = a\n",
    "        a, b = b, a + b \n",
    "    return fibDict\n",
    "\n",
    "# Example usage\n",
    "n = 10 \n",
    "fibNumbers = fibonacciDict(n)\n",
    "print(fibNumbers)"
   ]
  },
  {
   "cell_type": "code",
   "execution_count": null,
   "id": "0d00b7dd-31f9-4f0a-97ce-9a850c0ebc88",
   "metadata": {},
   "outputs": [],
   "source": []
  }
 ],
 "metadata": {
  "kernelspec": {
   "display_name": "Python 3 (ipykernel)",
   "language": "python",
   "name": "python3"
  },
  "language_info": {
   "codemirror_mode": {
    "name": "ipython",
    "version": 3
   },
   "file_extension": ".py",
   "mimetype": "text/x-python",
   "name": "python",
   "nbconvert_exporter": "python",
   "pygments_lexer": "ipython3",
   "version": "3.12.4"
  }
 },
 "nbformat": 4,
 "nbformat_minor": 5
}
