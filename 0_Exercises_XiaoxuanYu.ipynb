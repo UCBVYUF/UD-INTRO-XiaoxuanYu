{
 "cells": [
  {
   "cell_type": "markdown",
   "id": "529d91ae",
   "metadata": {
    "tags": []
   },
   "source": [
    "# Exercise 00\n",
    "Write a bit of code that prints _Introduction to Programming_ to the console and execute the cell"
   ]
  },
  {
   "cell_type": "code",
   "execution_count": 4,
   "id": "98711beb",
   "metadata": {},
   "outputs": [
    {
     "name": "stdout",
     "output_type": "stream",
     "text": [
      " Introduction to Programming\n"
     ]
    }
   ],
   "source": [
    "print (\" Introduction to Programming\")"
   ]
  },
  {
   "cell_type": "markdown",
   "id": "63ad5023",
   "metadata": {},
   "source": [
    "-----------------------------------------------------------------------------\n",
    "# Exercise 01\n",
    "Hello World is traditionally the first program anyone writes. It is\n",
    "very simple and the only thing it should do is print Hello World! to the\n",
    "terminal window.\n",
    "Create a file called HelloWorld.py and edit the contents so it prints Hello World! to the terminal and execute it using the command line."
   ]
  },
  {
   "cell_type": "code",
   "execution_count": null,
   "id": "161cdc86-64c8-4d19-a5a0-3d01f68c3ddc",
   "metadata": {},
   "outputs": [],
   "source": []
  },
  {
   "cell_type": "markdown",
   "id": "a4a7c4c2",
   "metadata": {},
   "source": [
    "-----------------------------------------------------------------------------\n",
    "# Exercise 02\n",
    "Write some code to print your name, email, and age on separate lines. For each element first assign it to a variable and use the variable to print. \n",
    "\n",
    "Bonus: try to create the print statement for all variable in one line of code. (hint: '\\n' is the character for a new line)"
   ]
  },
  {
   "cell_type": "code",
   "execution_count": 38,
   "id": "fc8fface",
   "metadata": {},
   "outputs": [
    {
     "name": "stdout",
     "output_type": "stream",
     "text": [
      "Xiaoxuan Yu\n",
      "ucbvyuf@ucl.ac.uk\n",
      "22\n"
     ]
    }
   ],
   "source": [
    "name = \"Xiaoxuan Yu\"\n",
    "email = \"ucbvyuf@ucl.ac.uk\"\n",
    "age = 22 \n",
    "print(name + '\\n' + email + '\\n' + str(age))\n"
   ]
  },
  {
   "cell_type": "code",
   "execution_count": 42,
   "id": "4a51d2ec-2d7d-44e4-8f2e-1d23488e89b6",
   "metadata": {},
   "outputs": [
    {
     "name": "stdout",
     "output_type": "stream",
     "text": [
      "name:Xiaoxuan Yu \n",
      "email:ucbvyuf@ucl.ac.uk\n",
      "age:22\n"
     ]
    }
   ],
   "source": [
    "name = \"Xiaoxuan Yu\"\n",
    "email = \"ucbvyuf@ucl.ac.uk\"\n",
    "age = 22 \n",
    "print(f\"name:{name} \\nemail:{email}\\nage:{age}\")"
   ]
  },
  {
   "cell_type": "markdown",
   "id": "0dd1c1d1",
   "metadata": {},
   "source": [
    "-----------------------------------------------------------------------------\n",
    "# Exercise 03\n",
    "Print the numbers 0, 178, -21, 2938 divided by 49, 436 multiplied with 9948 and 12 to the power of 20\n",
    "\n",
    "(Hint: Look up the documentation of basic arithmetic operators)"
   ]
  },
  {
   "cell_type": "code",
   "execution_count": 4,
   "id": "f3d5d009",
   "metadata": {},
   "outputs": [
    {
     "name": "stdout",
     "output_type": "stream",
     "text": [
      "0\n",
      "178\n",
      "-21\n",
      "59.95918367346939\n",
      "4337328\n",
      "3833759992447475122176\n"
     ]
    }
   ],
   "source": [
    "Number1=0\n",
    "Number2=178\n",
    "Number3=-21\n",
    "Number4=2938/49\n",
    "Number5=436*9948\n",
    "Number6=12**20\n",
    "\n",
    "print (Number1)\n",
    "print (Number2)\n",
    "print (Number3)\n",
    "print (Number4)\n",
    "print (Number5)\n",
    "print (Number6)\n"
   ]
  },
  {
   "cell_type": "markdown",
   "id": "1f151455",
   "metadata": {},
   "source": [
    "-----------------------------------------------------------------------------\n",
    "# Exercise 04\n",
    "Print sin(200), cos(100), tan($\\pi$/4)\n",
    "\n",
    "(Hint: Look up for how to use trigonometric function, and how to get the value of $\\pi$.)"
   ]
  },
  {
   "cell_type": "code",
   "execution_count": 19,
   "id": "d0e37690",
   "metadata": {},
   "outputs": [
    {
     "name": "stdout",
     "output_type": "stream",
     "text": [
      "-0.34202014332566866\n",
      "-0.1736481776669303\n",
      "0.9999999999999999\n"
     ]
    }
   ],
   "source": [
    "import math\n",
    "sin200 = math.sin(math.radians(200))\n",
    "print(sin200)\n",
    "import math\n",
    "cos100= math.cos(math.radians(100))\n",
    "print(cos100)\n",
    "import math\n",
    "tanpiover4= math.tan(math.pi/4)\n",
    "print(tanpiover4)"
   ]
  },
  {
   "cell_type": "code",
   "execution_count": 43,
   "id": "850858e4-0075-42d1-90ea-b06756a95d4a",
   "metadata": {},
   "outputs": [
    {
     "name": "stdout",
     "output_type": "stream",
     "text": [
      "-0.34202014332566866\n",
      "-0.1736481776669303\n",
      "0.9999999999999999\n"
     ]
    }
   ],
   "source": [
    "from math import sin, cos, tan, radians, pi\n",
    "print (sin(radians(200)))\n",
    "print (cos(radians(100)))\n",
    "print (tan(pi/4))"
   ]
  },
  {
   "cell_type": "markdown",
   "id": "9d026820",
   "metadata": {},
   "source": [
    "-----------------------------------------------------------------------------\n",
    "# Exercise 05\n",
    "Write a program to read your first and last names from the console seperately, and then print them on the console together, separated by a space."
   ]
  },
  {
   "cell_type": "code",
   "execution_count": 25,
   "id": "4c7217e0",
   "metadata": {},
   "outputs": [
    {
     "name": "stdout",
     "output_type": "stream",
     "text": [
      "XiaoxuanYu\n"
     ]
    }
   ],
   "source": [
    "firstname =\"Xiaoxuan\"\n",
    "lastname =\"Yu\"\n",
    "fullname =firstname+\"\"+lastname\n",
    "print(fullname)"
   ]
  },
  {
   "cell_type": "code",
   "execution_count": 45,
   "id": "16a84df0-0cb0-401f-80ef-c7788cf497b4",
   "metadata": {},
   "outputs": [
    {
     "name": "stdin",
     "output_type": "stream",
     "text": [
      " Xiaoxuan\n",
      " Yu\n"
     ]
    },
    {
     "name": "stdout",
     "output_type": "stream",
     "text": [
      "Xiaoxuan Yu\n"
     ]
    }
   ],
   "source": [
    "firstname = input()\n",
    "lastname = input()\n",
    "print (firstname,lastname)"
   ]
  },
  {
   "cell_type": "markdown",
   "id": "e83fa346",
   "metadata": {},
   "source": [
    "-----------------------------------------------------------------------------\n",
    "# Exercise 06\n",
    "Write a program that determines whether a number given as user input is positive or negative\n",
    " \n",
    "You will need to convert the console input from a string to a number first!"
   ]
  },
  {
   "cell_type": "code",
   "execution_count": 28,
   "id": "ecd924c2",
   "metadata": {},
   "outputs": [
    {
     "name": "stdout",
     "output_type": "stream",
     "text": [
      "positive\n"
     ]
    }
   ],
   "source": [
    "n=6\n",
    "if(n>0):\n",
    "    print(\"positive\")\n",
    "else:\n",
    "    print(\"negative\")"
   ]
  },
  {
   "cell_type": "code",
   "execution_count": 48,
   "id": "b243cb9e-8bdb-4736-9368-9fb0ef7206fb",
   "metadata": {},
   "outputs": [
    {
     "name": "stdin",
     "output_type": "stream",
     "text": [
      "number  23\n"
     ]
    },
    {
     "name": "stdout",
     "output_type": "stream",
     "text": [
      "positive\n"
     ]
    }
   ],
   "source": [
    "number=float(input(\"number \"))\n",
    "if number>0:\n",
    "  print(\"positive\")\n",
    "elif number<0:\n",
    "  print(\"nagative\")\n",
    "else :\n",
    "  print (\"zero\")"
   ]
  },
  {
   "cell_type": "markdown",
   "id": "2a192596",
   "metadata": {},
   "source": [
    "-----------------------------------------------------------------------------\n",
    "# Exercise 07\n",
    "Write a program that picks a random number between 1-20 and makes the user guess until they get the number right. Then print a congratulations message\n",
    "- (Find out yourself how to generate a random integer)\n",
    "- Bonus: make the user choose the range within which they have to guess\n",
    "- Bonus: keep track of how many guesses were made and print this at the end"
   ]
  },
  {
   "cell_type": "code",
   "execution_count": 55,
   "id": "70358dd3",
   "metadata": {},
   "outputs": [
    {
     "name": "stdin",
     "output_type": "stream",
     "text": [
      "set your lower range 2\n",
      "set your upper range 10\n",
      "make a guess 2\n"
     ]
    },
    {
     "name": "stdout",
     "output_type": "stream",
     "text": [
      "Try again!\n"
     ]
    },
    {
     "name": "stdin",
     "output_type": "stream",
     "text": [
      "make a guess 3\n"
     ]
    },
    {
     "name": "stdout",
     "output_type": "stream",
     "text": [
      "Try again!\n"
     ]
    },
    {
     "name": "stdin",
     "output_type": "stream",
     "text": [
      "make a guess 4\n"
     ]
    },
    {
     "name": "stdout",
     "output_type": "stream",
     "text": [
      "Try again!\n"
     ]
    },
    {
     "name": "stdin",
     "output_type": "stream",
     "text": [
      "make a guess 5\n"
     ]
    },
    {
     "name": "stdout",
     "output_type": "stream",
     "text": [
      "Try again!\n"
     ]
    },
    {
     "name": "stdin",
     "output_type": "stream",
     "text": [
      "make a guess 7\n"
     ]
    },
    {
     "name": "stdout",
     "output_type": "stream",
     "text": [
      "Try again!\n"
     ]
    },
    {
     "name": "stdin",
     "output_type": "stream",
     "text": [
      "make a guess 6\n"
     ]
    },
    {
     "name": "stdout",
     "output_type": "stream",
     "text": [
      "Try again!\n"
     ]
    },
    {
     "name": "stdin",
     "output_type": "stream",
     "text": [
      "make a guess 8\n"
     ]
    },
    {
     "name": "stdout",
     "output_type": "stream",
     "text": [
      "Congratulations, you win. And you guessed it in 7!\n"
     ]
    }
   ],
   "source": [
    "import random\n",
    "lr = int(input('set your lower range'))\n",
    "ur = int (input('set your upper range'))\n",
    "\n",
    "randomNumber = random.randint(lr,ur+1)\n",
    "guessNumber = lr-2\n",
    "nrGuesses = 0\n",
    "\n",
    "while not randomNumber == guessNumber:\n",
    "    nrGuesses+=1\n",
    "    guessNumber = int(input('make a guess'))\n",
    "    if not guessNumber == randomNumber:\n",
    "        print(\"Try again!\")\n",
    "\n",
    "print(f\"Congratulations, you win. And you guessed it in {nrGuesses}!\")\n"
   ]
  },
  {
   "cell_type": "markdown",
   "id": "d53b9c07",
   "metadata": {},
   "source": [
    "-----------------------------------------------------------------------------\n",
    "# Exercise 08\n",
    "Ask a sentence as input, then print the words in alphabetical order.\n",
    "Hint: look up how to split up a string"
   ]
  },
  {
   "cell_type": "code",
   "execution_count": 32,
   "id": "b6524cf5",
   "metadata": {},
   "outputs": [
    {
     "name": "stdout",
     "output_type": "stream",
     "text": [
      "W\n",
      "e\n",
      "l\n",
      "c\n",
      "o\n",
      "m\n",
      "e\n",
      " \n",
      "t\n",
      "o\n",
      " \n",
      "U\n",
      "C\n",
      "L\n"
     ]
    }
   ],
   "source": [
    "for char in \"Welcome to UCL\":\n",
    "    print(char)"
   ]
  },
  {
   "cell_type": "code",
   "execution_count": 59,
   "id": "7a33ea13-cd4f-4e55-afec-909fbbd47e2b",
   "metadata": {},
   "outputs": [
    {
     "name": "stdin",
     "output_type": "stream",
     "text": [
      "sentence Welcome to London\n"
     ]
    },
    {
     "name": "stdout",
     "output_type": "stream",
     "text": [
      "['Welcome', 'London', 'to']\n"
     ]
    }
   ],
   "source": [
    "sentence = input('sentence')\n",
    "words = sentence.split()\n",
    "words.sort(key=lambda x:x[::-1])\n",
    "print(words)"
   ]
  },
  {
   "cell_type": "markdown",
   "id": "09a7b060",
   "metadata": {},
   "source": [
    "-----------------------------------------------------------------------------\n",
    "# Exercise 09\n",
    "Write a program using for loops to print a christmas tree of x lines high\n",
    "specified by the user.\n",
    "(use for loops)\n",
    "so for instance, a chrismas tree of 4 high should looks like this:\n",
    "\n",
    "```\n",
    "\n",
    "    *\n",
    "   ***\n",
    "  *****\n",
    " *******\n",
    "    |\n",
    "\n",
    "```\n",
    "\n",
    "hint: first combine strings into a variable before printing"
   ]
  },
  {
   "cell_type": "code",
   "execution_count": 72,
   "id": "5150f7a4",
   "metadata": {},
   "outputs": [
    {
     "name": "stdin",
     "output_type": "stream",
     "text": [
      "choose ur number: 10\n"
     ]
    },
    {
     "name": "stdout",
     "output_type": "stream",
     "text": [
      "         *\n",
      "        ***\n",
      "       *****\n",
      "      *******\n",
      "     *********\n",
      "    ***********\n",
      "   *************\n",
      "  ***************\n",
      " *****************\n",
      "*******************\n",
      "         |\n"
     ]
    }
   ],
   "source": [
    "n=int(input(\"choose ur number:\" ))\n",
    "for i in range(1,n+1):\n",
    "      print(\" \"*(n-i)+\"*\"*(i*2-1))\n",
    "print(' '*(n-1)+'|')"
   ]
  },
  {
   "cell_type": "markdown",
   "id": "07f67531",
   "metadata": {},
   "source": [
    "-----------------------------------------------------------------------------\n",
    "# Exercise 10\n",
    "Write a piece of code that prints the first $n$ numbers of the padovan sequence"
   ]
  },
  {
   "cell_type": "code",
   "execution_count": 70,
   "id": "d301c61b",
   "metadata": {},
   "outputs": [
    {
     "name": "stdout",
     "output_type": "stream",
     "text": [
      "3\n",
      "5\n",
      "9\n",
      "15\n",
      "25\n",
      "41\n",
      "67\n",
      "109\n",
      "177\n",
      "287\n",
      "465\n",
      "753\n",
      "1219\n",
      "1973\n",
      "3193\n",
      "5167\n",
      "8361\n",
      "13529\n",
      "21891\n",
      "35421\n",
      "57313\n",
      "92735\n",
      "150049\n",
      "242785\n",
      "392835\n",
      "635621\n",
      "1028457\n",
      "1664079\n",
      "2692537\n",
      "4356617\n",
      "7049155\n",
      "11405773\n",
      "18454929\n",
      "29860703\n",
      "48315633\n",
      "78176337\n",
      "126491971\n",
      "204668309\n",
      "331160281\n",
      "535828591\n",
      "866988873\n",
      "1402817465\n",
      "2269806339\n",
      "3672623805\n",
      "5942430145\n",
      "9615053951\n",
      "15557484097\n",
      "25172538049\n",
      "40730022147\n",
      "65902560197\n",
      "106632582345\n",
      "172535142543\n",
      "279167724889\n",
      "451702867433\n",
      "730870592323\n",
      "1182573459757\n",
      "1913444052081\n",
      "3096017511839\n",
      "5009461563921\n",
      "8105479075761\n"
     ]
    }
   ],
   "source": [
    "a=1\n",
    "b=2\n",
    "n=60\n",
    "\n",
    "for i in range(n):\n",
    "    c=a\n",
    "    a=b+1\n",
    "    b=c+a\n",
    "    print(a)"
   ]
  },
  {
   "cell_type": "code",
   "execution_count": 73,
   "id": "02db3f0a-e308-4550-b6f6-5cacc24fbef0",
   "metadata": {},
   "outputs": [
    {
     "name": "stdin",
     "output_type": "stream",
     "text": [
      " 10\n"
     ]
    },
    {
     "name": "stdout",
     "output_type": "stream",
     "text": [
      "1\n",
      "1\n",
      "2\n",
      "2\n",
      "3\n",
      "4\n",
      "5\n",
      "7\n",
      "9\n",
      "12\n"
     ]
    }
   ],
   "source": [
    "p0 = 1\n",
    "p1 = 1\n",
    "p2 = 1\n",
    "\n",
    "n = int(input())\n",
    "\n",
    "for i in range(n):\n",
    "    m = p1 + p0\n",
    "    p0 = p1\n",
    "    p1= p2\n",
    "    p2=m\n",
    "    print(p0)"
   ]
  },
  {
   "cell_type": "code",
   "execution_count": null,
   "id": "4fb8ef21-a49a-4ca3-adc7-bc5a301f45b7",
   "metadata": {},
   "outputs": [],
   "source": []
  }
 ],
 "metadata": {
  "kernelspec": {
   "display_name": "Python 3 (ipykernel)",
   "language": "python",
   "name": "python3"
  },
  "language_info": {
   "codemirror_mode": {
    "name": "ipython",
    "version": 3
   },
   "file_extension": ".py",
   "mimetype": "text/x-python",
   "name": "python",
   "nbconvert_exporter": "python",
   "pygments_lexer": "ipython3",
   "version": "3.11.10"
  }
 },
 "nbformat": 4,
 "nbformat_minor": 5
}
